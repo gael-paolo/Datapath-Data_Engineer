{
  "cells": [
    {
      "cell_type": "markdown",
      "source": [
        "# Data Engineer with Azure\r\n",
        "## Datapath Project\r\n",
        "## Author: Gael Velasquez"
      ],
      "metadata": {
        "nteract": {
          "transient": {
            "deleting": false
          }
        }
      }
    },
    {
      "cell_type": "code",
      "source": [
        "spark"
      ],
      "outputs": [
        {
          "output_type": "display_data",
          "data": {
            "application/vnd.livy.statement-meta+json": {
              "spark_pool": "DatapathSpark",
              "session_id": "7",
              "statement_id": 1,
              "state": "finished",
              "livy_statement_state": "available",
              "queued_time": "2022-11-04T23:57:53.5784307Z",
              "session_start_time": "2022-11-04T23:57:53.6269539Z",
              "execution_start_time": "2022-11-04T23:58:42.0415382Z",
              "execution_finish_time": "2022-11-04T23:58:42.2295953Z",
              "spark_jobs": null
            },
            "text/plain": "StatementMeta(DatapathSpark, 7, 1, Finished, Available)"
          },
          "metadata": {}
        },
        {
          "output_type": "execute_result",
          "execution_count": 7,
          "data": {
            "text/plain": "<pyspark.sql.session.SparkSession at 0x7f83c934aaf0>",
            "text/html": "\n            <div>\n                <p><b>SparkSession - hive</b></p>\n                \n        <div>\n            <p><b>SparkContext</b></p>\n\n            <p><a href=\"http://vm-5e139471:39595\">Spark UI</a></p>\n\n            <dl>\n              <dt>Version</dt>\n                <dd><code>v3.2.2.5.0-73283859</code></dd>\n              <dt>Master</dt>\n                <dd><code>yarn</code></dd>\n              <dt>AppName</dt>\n                <dd><code>Proj_Transform_DatapathSpark_1667606273</code></dd>\n            </dl>\n        </div>\n        \n            </div>\n        "
          },
          "metadata": {}
        }
      ],
      "execution_count": 1,
      "metadata": {
        "jupyter": {
          "source_hidden": false,
          "outputs_hidden": false
        },
        "nteract": {
          "transient": {
            "deleting": false
          }
        }
      }
    },
    {
      "cell_type": "code",
      "source": [
        "from pyspark.sql.types import StructType, StructField, IntegerType, StringType, DoubleType, BooleanType\r\n",
        "from pyspark.sql.functions import substring, col"
      ],
      "outputs": [
        {
          "output_type": "display_data",
          "data": {
            "application/vnd.livy.statement-meta+json": {
              "spark_pool": "DatapathSpark",
              "session_id": "7",
              "statement_id": 2,
              "state": "finished",
              "livy_statement_state": "available",
              "queued_time": "2022-11-04T23:57:53.5803268Z",
              "session_start_time": null,
              "execution_start_time": "2022-11-04T23:58:42.4051249Z",
              "execution_finish_time": "2022-11-04T23:58:42.5788388Z",
              "spark_jobs": null
            },
            "text/plain": "StatementMeta(DatapathSpark, 7, 2, Finished, Available)"
          },
          "metadata": {}
        }
      ],
      "execution_count": 2,
      "metadata": {
        "jupyter": {
          "source_hidden": false,
          "outputs_hidden": false
        },
        "nteract": {
          "transient": {
            "deleting": false
          }
        }
      }
    },
    {
      "cell_type": "code",
      "source": [
        "bronze_path = 'abfss://projectcontainer@datapathproject.dfs.core.windows.net/bronze'\r\n",
        "silver_path = 'abfss://projectcontainer@datapathproject.dfs.core.windows.net/silver'\r\n",
        "gold_path = 'abfss://projectcontainer@datapathproject.dfs.core.windows.net/gold'"
      ],
      "outputs": [
        {
          "output_type": "display_data",
          "data": {
            "application/vnd.livy.statement-meta+json": {
              "spark_pool": "DatapathSpark",
              "session_id": "7",
              "statement_id": 3,
              "state": "finished",
              "livy_statement_state": "available",
              "queued_time": "2022-11-04T23:57:53.5846398Z",
              "session_start_time": null,
              "execution_start_time": "2022-11-04T23:58:42.7036217Z",
              "execution_finish_time": "2022-11-04T23:58:42.8958435Z",
              "spark_jobs": null
            },
            "text/plain": "StatementMeta(DatapathSpark, 7, 3, Finished, Available)"
          },
          "metadata": {}
        }
      ],
      "execution_count": 3,
      "metadata": {
        "jupyter": {
          "source_hidden": false,
          "outputs_hidden": false
        },
        "nteract": {
          "transient": {
            "deleting": false
          }
        }
      }
    },
    {
      "cell_type": "markdown",
      "source": [
        "## Reading Silver Layer"
      ],
      "metadata": {
        "nteract": {
          "transient": {
            "deleting": false
          }
        }
      }
    },
    {
      "cell_type": "code",
      "source": [
        "ddepartments = spark.read.format(\"delta\").load(f\"{silver_path}/departments\")\r\n",
        "dcategories = spark.read.format(\"delta\").load(f\"{silver_path}/categories\")\r\n",
        "dproducts = spark.read.format(\"delta\").load(f\"{silver_path}/products\")\r\n",
        "dorder_items = spark.read.format(\"delta\").load(f\"{silver_path}/order_items\")\r\n",
        "dorders = spark.read.format(\"delta\").load(f\"{silver_path}/orders\")\r\n",
        "dcustomers = spark.read.format(\"delta\").load(f\"{silver_path}/customer\")"
      ],
      "outputs": [
        {
          "output_type": "display_data",
          "data": {
            "application/vnd.livy.statement-meta+json": {
              "spark_pool": "DatapathSpark",
              "session_id": "7",
              "statement_id": 4,
              "state": "finished",
              "livy_statement_state": "available",
              "queued_time": "2022-11-04T23:57:53.5896935Z",
              "session_start_time": null,
              "execution_start_time": "2022-11-04T23:58:43.0160353Z",
              "execution_finish_time": "2022-11-04T23:59:25.028616Z",
              "spark_jobs": null
            },
            "text/plain": "StatementMeta(DatapathSpark, 7, 4, Finished, Available)"
          },
          "metadata": {}
        }
      ],
      "execution_count": 4,
      "metadata": {
        "jupyter": {
          "source_hidden": false,
          "outputs_hidden": false
        },
        "nteract": {
          "transient": {
            "deleting": false
          }
        }
      }
    },
    {
      "cell_type": "code",
      "source": [
        "ddepartments.createOrReplaceTempView(\"departments\")\r\n",
        "dcategories.createOrReplaceTempView(\"categories\")\r\n",
        "dproducts.createOrReplaceTempView(\"products\")\r\n",
        "dorder_items.createOrReplaceTempView(\"order_items\")\r\n",
        "dorders.createOrReplaceTempView(\"orders\")\r\n",
        "dcustomers.createOrReplaceTempView(\"customers\")"
      ],
      "outputs": [
        {
          "output_type": "display_data",
          "data": {
            "application/vnd.livy.statement-meta+json": {
              "spark_pool": "DatapathSpark",
              "session_id": "7",
              "statement_id": 5,
              "state": "finished",
              "livy_statement_state": "available",
              "queued_time": "2022-11-04T23:57:53.5945857Z",
              "session_start_time": null,
              "execution_start_time": "2022-11-04T23:59:25.1763575Z",
              "execution_finish_time": "2022-11-04T23:59:42.2362017Z",
              "spark_jobs": null
            },
            "text/plain": "StatementMeta(DatapathSpark, 7, 5, Finished, Available)"
          },
          "metadata": {}
        }
      ],
      "execution_count": 5,
      "metadata": {
        "jupyter": {
          "source_hidden": false,
          "outputs_hidden": false
        },
        "nteract": {
          "transient": {
            "deleting": false
          }
        }
      }
    },
    {
      "cell_type": "markdown",
      "source": [
        "## Making Transformations"
      ],
      "metadata": {
        "nteract": {
          "transient": {
            "deleting": false
          }
        }
      }
    },
    {
      "cell_type": "markdown",
      "source": [
        "#### Report_1: Cantidad de ordenes realizadas agrupadas por customer (concatenar firstname y last name = full name) y ordenados por la cantidad de ordenes descendentemente"
      ],
      "metadata": {
        "nteract": {
          "transient": {
            "deleting": false
          }
        }
      }
    },
    {
      "cell_type": "code",
      "source": [
        "R1 = spark.sql(\r\n",
        "  \"\"\"\r\n",
        "  SELECT customer_full_name, count(order_id) AS Total_Orders\r\n",
        "  FROM(\r\n",
        "  SELECT customer_id, CONCAT(customer_fname,' ',customer_lname) AS customer_full_name, orders.order_id \r\n",
        "  FROM customers\r\n",
        "  LEFT OUTER JOIN orders ON orders.order_customer_id = customers.customer_id)\r\n",
        "  GROUP BY customer_full_name\r\n",
        "  ORDER BY Total_Orders desc\r\n",
        "  \"\"\")"
      ],
      "outputs": [
        {
          "output_type": "display_data",
          "data": {
            "application/vnd.livy.statement-meta+json": {
              "spark_pool": "DatapathSpark",
              "session_id": "7",
              "statement_id": 6,
              "state": "finished",
              "livy_statement_state": "available",
              "queued_time": "2022-11-04T23:57:53.5992029Z",
              "session_start_time": null,
              "execution_start_time": "2022-11-04T23:59:42.3795852Z",
              "execution_finish_time": "2022-11-04T23:59:43.0209632Z",
              "spark_jobs": null
            },
            "text/plain": "StatementMeta(DatapathSpark, 7, 6, Finished, Available)"
          },
          "metadata": {}
        }
      ],
      "execution_count": 6,
      "metadata": {
        "jupyter": {
          "source_hidden": false,
          "outputs_hidden": false
        },
        "nteract": {
          "transient": {
            "deleting": false
          }
        }
      }
    },
    {
      "cell_type": "code",
      "source": [
        "R1.write.mode(\"overwrite\").format(\"delta\").save(f\"{gold_path}/R1\")"
      ],
      "outputs": [
        {
          "output_type": "display_data",
          "data": {
            "application/vnd.livy.statement-meta+json": {
              "spark_pool": "DatapathSpark",
              "session_id": "7",
              "statement_id": 7,
              "state": "finished",
              "livy_statement_state": "available",
              "queued_time": "2022-11-04T23:57:53.602206Z",
              "session_start_time": null,
              "execution_start_time": "2022-11-04T23:59:43.1469661Z",
              "execution_finish_time": "2022-11-04T23:59:55.9619551Z",
              "spark_jobs": null
            },
            "text/plain": "StatementMeta(DatapathSpark, 7, 7, Finished, Available)"
          },
          "metadata": {}
        }
      ],
      "execution_count": 7,
      "metadata": {
        "jupyter": {
          "source_hidden": false,
          "outputs_hidden": false
        },
        "nteract": {
          "transient": {
            "deleting": false
          }
        }
      }
    },
    {
      "cell_type": "markdown",
      "source": [
        "### R2: Obtener la cantidad de productos vendidos agrupando año, mes y por categoria, mostrando el nombre de la categoria, la cantidad, el periodo (yyyyMM)"
      ],
      "metadata": {
        "nteract": {
          "transient": {
            "deleting": false
          }
        }
      }
    },
    {
      "cell_type": "code",
      "source": [
        "R2 = spark.sql(\r\n",
        "  \"\"\"\r\n",
        "  SELECT year_order, month_order, categories.category_name, SUM(order_item_quantity)AS Total_Quantity\r\n",
        "  FROM(\r\n",
        "  SELECT year_order, month_order, products.product_category_id, order_item_quantity\r\n",
        "  FROM(\r\n",
        "  SELECT year(order_date) AS year_order, month(order_date) AS month_order, order_items.order_item_product_id, order_items.order_item_quantity \r\n",
        "  FROM orders\r\n",
        "  INNER JOIN order_items ON orders.order_id = order_items.order_item_order_id\r\n",
        "  WHERE order_status <> 'CANCELED')\r\n",
        "  LEFT OUTER JOIN products ON product_id = order_item_product_id)\r\n",
        "  LEFT OUTER JOIN categories ON category_id = product_category_id\r\n",
        "  GROUP BY year_order, month_order, category_name\r\n",
        "  ORDER BY year_order, month_order, category_name\r\n",
        "  \"\"\")"
      ],
      "outputs": [
        {
          "output_type": "display_data",
          "data": {
            "application/vnd.livy.statement-meta+json": {
              "spark_pool": "DatapathSpark",
              "session_id": "7",
              "statement_id": 8,
              "state": "finished",
              "livy_statement_state": "available",
              "queued_time": "2022-11-04T23:57:53.6264655Z",
              "session_start_time": null,
              "execution_start_time": "2022-11-04T23:59:56.0917206Z",
              "execution_finish_time": "2022-11-04T23:59:56.2631114Z",
              "spark_jobs": null
            },
            "text/plain": "StatementMeta(DatapathSpark, 7, 8, Finished, Available)"
          },
          "metadata": {}
        }
      ],
      "execution_count": 8,
      "metadata": {
        "jupyter": {
          "source_hidden": false,
          "outputs_hidden": false
        },
        "nteract": {
          "transient": {
            "deleting": false
          }
        }
      }
    },
    {
      "cell_type": "code",
      "source": [
        "R2.write.mode(\"overwrite\").format(\"delta\").save(f\"{gold_path}/R2\")"
      ],
      "outputs": [
        {
          "output_type": "display_data",
          "data": {
            "application/vnd.livy.statement-meta+json": {
              "spark_pool": "DatapathSpark",
              "session_id": "7",
              "statement_id": 9,
              "state": "finished",
              "livy_statement_state": "available",
              "queued_time": "2022-11-04T23:57:53.62954Z",
              "session_start_time": null,
              "execution_start_time": "2022-11-04T23:59:56.378589Z",
              "execution_finish_time": "2022-11-05T00:00:09.2423381Z",
              "spark_jobs": null
            },
            "text/plain": "StatementMeta(DatapathSpark, 7, 9, Finished, Available)"
          },
          "metadata": {}
        }
      ],
      "execution_count": 9,
      "metadata": {
        "jupyter": {
          "source_hidden": false,
          "outputs_hidden": false
        },
        "nteract": {
          "transient": {
            "deleting": false
          }
        }
      }
    },
    {
      "cell_type": "markdown",
      "source": [
        "### R3: Ingresos promedio (Dia, Mes, Año)"
      ],
      "metadata": {
        "nteract": {
          "transient": {
            "deleting": false
          }
        }
      }
    },
    {
      "cell_type": "code",
      "source": [
        "R31 = spark.sql(\r\n",
        "  \"\"\"\r\n",
        "  SELECT year(order_date) AS year_order, mean(order_item_subtotal) AS Income_Mean\r\n",
        "  FROM orders\r\n",
        "  INNER JOIN order_items ON orders.order_id = order_items.order_item_order_id\r\n",
        "  WHERE order_status <> 'CANCELED'\r\n",
        "  GROUP BY year_order \r\n",
        "  ORDER BY year_order\r\n",
        "  \"\"\")\r\n",
        "\r\n",
        "R32 = spark.sql(\r\n",
        "  \"\"\"\r\n",
        "  SELECT month(order_date) AS month_order, mean(order_item_subtotal) AS Income_Mean\r\n",
        "  FROM orders\r\n",
        "  INNER JOIN order_items ON orders.order_id = order_items.order_item_order_id\r\n",
        "  WHERE order_status <> 'CANCELED'\r\n",
        "  GROUP BY month_order\r\n",
        "  ORDER BY month_order\r\n",
        "  \"\"\")\r\n",
        "\r\n",
        "R33 = spark.sql(\r\n",
        "  \"\"\"\r\n",
        "  SELECT day(order_date) AS day_order, mean(order_item_subtotal) AS Income_Mean\r\n",
        "  FROM orders\r\n",
        "  INNER JOIN order_items ON orders.order_id = order_items.order_item_order_id\r\n",
        "  WHERE order_status <> 'CANCELED'\r\n",
        "  GROUP BY day_order\r\n",
        "  ORDER BY day_order\r\n",
        "  \"\"\")"
      ],
      "outputs": [
        {
          "output_type": "display_data",
          "data": {
            "application/vnd.livy.statement-meta+json": {
              "spark_pool": "DatapathSpark",
              "session_id": "7",
              "statement_id": 10,
              "state": "finished",
              "livy_statement_state": "available",
              "queued_time": "2022-11-04T23:57:53.6320116Z",
              "session_start_time": null,
              "execution_start_time": "2022-11-05T00:00:09.3591936Z",
              "execution_finish_time": "2022-11-05T00:00:09.5436517Z",
              "spark_jobs": null
            },
            "text/plain": "StatementMeta(DatapathSpark, 7, 10, Finished, Available)"
          },
          "metadata": {}
        }
      ],
      "execution_count": 10,
      "metadata": {
        "jupyter": {
          "source_hidden": false,
          "outputs_hidden": false
        },
        "nteract": {
          "transient": {
            "deleting": false
          }
        }
      }
    },
    {
      "cell_type": "code",
      "source": [
        "R31.write.mode(\"overwrite\").format(\"delta\").save(f\"{gold_path}/R31\")\r\n",
        "R32.write.mode(\"overwrite\").format(\"delta\").save(f\"{gold_path}/R32\")\r\n",
        "R33.write.mode(\"overwrite\").format(\"delta\").save(f\"{gold_path}/R33\")"
      ],
      "outputs": [
        {
          "output_type": "display_data",
          "data": {
            "application/vnd.livy.statement-meta+json": {
              "spark_pool": "DatapathSpark",
              "session_id": "7",
              "statement_id": 11,
              "state": "finished",
              "livy_statement_state": "available",
              "queued_time": "2022-11-04T23:57:53.6341806Z",
              "session_start_time": null,
              "execution_start_time": "2022-11-05T00:00:09.6650338Z",
              "execution_finish_time": "2022-11-05T00:00:24.632569Z",
              "spark_jobs": null
            },
            "text/plain": "StatementMeta(DatapathSpark, 7, 11, Finished, Available)"
          },
          "metadata": {}
        }
      ],
      "execution_count": 11,
      "metadata": {
        "jupyter": {
          "source_hidden": false,
          "outputs_hidden": false
        },
        "nteract": {
          "transient": {
            "deleting": false
          }
        }
      }
    },
    {
      "cell_type": "markdown",
      "source": [
        "### R4: Obtenga todos los pedidos CANCELADOS con monto superior a $ 1000"
      ],
      "metadata": {
        "nteract": {
          "transient": {
            "deleting": false
          }
        }
      }
    },
    {
      "cell_type": "code",
      "source": [
        "R4 = spark.sql(\r\n",
        "  \"\"\"\r\n",
        "  SELECT *\r\n",
        "  FROM(\r\n",
        "  SELECT order_id, order_status, sum(order_item_subtotal) AS Total_Income\r\n",
        "  FROM orders\r\n",
        "  INNER JOIN order_items ON orders.order_id = order_items.order_item_order_id\r\n",
        "  WHERE order_status = 'CANCELED'\r\n",
        "  GROUP BY order_status, order_id\r\n",
        "  ORDER BY Total_Income)\r\n",
        "  WHERE Total_Income > 1000\r\n",
        "  \"\"\")"
      ],
      "outputs": [
        {
          "output_type": "display_data",
          "data": {
            "application/vnd.livy.statement-meta+json": {
              "spark_pool": "DatapathSpark",
              "session_id": "7",
              "statement_id": 12,
              "state": "finished",
              "livy_statement_state": "available",
              "queued_time": "2022-11-04T23:57:53.6360675Z",
              "session_start_time": null,
              "execution_start_time": "2022-11-05T00:00:24.8127821Z",
              "execution_finish_time": "2022-11-05T00:00:24.9873704Z",
              "spark_jobs": null
            },
            "text/plain": "StatementMeta(DatapathSpark, 7, 12, Finished, Available)"
          },
          "metadata": {}
        }
      ],
      "execution_count": 12,
      "metadata": {
        "jupyter": {
          "source_hidden": false,
          "outputs_hidden": false
        },
        "nteract": {
          "transient": {
            "deleting": false
          }
        }
      }
    },
    {
      "cell_type": "code",
      "source": [
        "R4.write.mode(\"overwrite\").format(\"delta\").save(f\"{gold_path}/R4\")"
      ],
      "outputs": [
        {
          "output_type": "display_data",
          "data": {
            "application/vnd.livy.statement-meta+json": {
              "spark_pool": "DatapathSpark",
              "session_id": "7",
              "statement_id": 13,
              "state": "finished",
              "livy_statement_state": "available",
              "queued_time": "2022-11-04T23:57:53.6382611Z",
              "session_start_time": null,
              "execution_start_time": "2022-11-05T00:00:25.1034955Z",
              "execution_finish_time": "2022-11-05T00:00:30.6566217Z",
              "spark_jobs": null
            },
            "text/plain": "StatementMeta(DatapathSpark, 7, 13, Finished, Available)"
          },
          "metadata": {}
        }
      ],
      "execution_count": 13,
      "metadata": {
        "jupyter": {
          "source_hidden": false,
          "outputs_hidden": false
        },
        "nteract": {
          "transient": {
            "deleting": false
          }
        }
      }
    },
    {
      "cell_type": "markdown",
      "source": [
        "### R5: Obtenga los ingresos de cada categoría por año por trimestre"
      ],
      "metadata": {
        "nteract": {
          "transient": {
            "deleting": false
          }
        }
      }
    },
    {
      "cell_type": "code",
      "source": [
        "R5 = spark.sql(\r\n",
        "  \"\"\"\r\n",
        "  SELECT year_order, quarter_order, category_name, SUM(order_item_subtotal) AS Total_Income\r\n",
        "  FROM (SELECT year_order, quarter_order, order_item_subtotal, product_category_id\r\n",
        "  FROM(SELECT year(order_date) AS year_order, quarter(order_date) AS quarter_order, order_item_product_id, order_item_subtotal\r\n",
        "  FROM orders\r\n",
        "  INNER JOIN order_items ON orders.order_id = order_items.order_item_order_id\r\n",
        "  WHERE order_status <> 'CANCELED')\r\n",
        "  LEFT OUTER JOIN products ON order_item_product_id = product_id)\r\n",
        "  LEFT OUTER JOIN categories ON product_category_id = category_id\r\n",
        "  GROUP BY year_order, quarter_order, category_name\r\n",
        "  ORDER BY year_order, quarter_order, category_name\r\n",
        "  \"\"\")"
      ],
      "outputs": [
        {
          "output_type": "display_data",
          "data": {
            "application/vnd.livy.statement-meta+json": {
              "spark_pool": "DatapathSpark",
              "session_id": "7",
              "statement_id": 14,
              "state": "finished",
              "livy_statement_state": "available",
              "queued_time": "2022-11-04T23:57:53.6424531Z",
              "session_start_time": null,
              "execution_start_time": "2022-11-05T00:00:30.7805056Z",
              "execution_finish_time": "2022-11-05T00:00:30.9580876Z",
              "spark_jobs": null
            },
            "text/plain": "StatementMeta(DatapathSpark, 7, 14, Finished, Available)"
          },
          "metadata": {}
        }
      ],
      "execution_count": 14,
      "metadata": {
        "jupyter": {
          "source_hidden": false,
          "outputs_hidden": false
        },
        "nteract": {
          "transient": {
            "deleting": false
          }
        }
      }
    },
    {
      "cell_type": "code",
      "source": [
        "R5.write.mode(\"overwrite\").format(\"delta\").save(f\"{gold_path}/R5\")"
      ],
      "outputs": [
        {
          "output_type": "display_data",
          "data": {
            "application/vnd.livy.statement-meta+json": {
              "spark_pool": "DatapathSpark",
              "session_id": "7",
              "statement_id": 15,
              "state": "finished",
              "livy_statement_state": "available",
              "queued_time": "2022-11-04T23:57:53.6455844Z",
              "session_start_time": null,
              "execution_start_time": "2022-11-05T00:00:31.0879893Z",
              "execution_finish_time": "2022-11-05T00:00:36.5704494Z",
              "spark_jobs": null
            },
            "text/plain": "StatementMeta(DatapathSpark, 7, 15, Finished, Available)"
          },
          "metadata": {}
        }
      ],
      "execution_count": 15,
      "metadata": {
        "jupyter": {
          "source_hidden": false,
          "outputs_hidden": false
        },
        "nteract": {
          "transient": {
            "deleting": false
          }
        }
      }
    }
  ],
  "metadata": {
    "kernelspec": {
      "name": "synapse_pyspark",
      "language": "Python",
      "display_name": "Synapse PySpark"
    },
    "language_info": {
      "name": "python"
    },
    "kernel_info": {
      "name": "synapse_pyspark"
    },
    "description": null,
    "save_output": true,
    "synapse_widget": {
      "version": "0.1",
      "state": {}
    }
  },
  "nbformat": 4,
  "nbformat_minor": 2
}
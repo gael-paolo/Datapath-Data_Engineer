{
  "cells": [
    {
      "cell_type": "markdown",
      "source": [
        "# Data Engineer with Azure\r\n",
        "## Datapath Project\r\n",
        "## Author: Gael Velasquez"
      ],
      "metadata": {
        "nteract": {
          "transient": {
            "deleting": false
          }
        }
      }
    },
    {
      "cell_type": "code",
      "source": [
        "spark"
      ],
      "outputs": [
        {
          "output_type": "display_data",
          "data": {
            "application/vnd.livy.statement-meta+json": {
              "spark_pool": "DatapathSpark",
              "session_id": "8",
              "statement_id": 1,
              "state": "finished",
              "livy_statement_state": "available",
              "queued_time": "2022-11-05T00:01:12.6596073Z",
              "session_start_time": "2022-11-05T00:01:12.6978934Z",
              "execution_start_time": "2022-11-05T00:02:00.7415117Z",
              "execution_finish_time": "2022-11-05T00:02:00.9088262Z",
              "spark_jobs": null
            },
            "text/plain": "StatementMeta(DatapathSpark, 8, 1, Finished, Available)"
          },
          "metadata": {}
        },
        {
          "output_type": "execute_result",
          "execution_count": 7,
          "data": {
            "text/plain": "<pyspark.sql.session.SparkSession at 0x7f10b4e46af0>",
            "text/html": "\n            <div>\n                <p><b>SparkSession - hive</b></p>\n                \n        <div>\n            <p><b>SparkContext</b></p>\n\n            <p><a href=\"http://vm-5e139471:39309\">Spark UI</a></p>\n\n            <dl>\n              <dt>Version</dt>\n                <dd><code>v3.2.2.5.0-73283859</code></dd>\n              <dt>Master</dt>\n                <dd><code>yarn</code></dd>\n              <dt>AppName</dt>\n                <dd><code>Proj_Load_DatapathSpark_1667606472</code></dd>\n            </dl>\n        </div>\n        \n            </div>\n        "
          },
          "metadata": {}
        }
      ],
      "execution_count": 1,
      "metadata": {
        "jupyter": {
          "source_hidden": false,
          "outputs_hidden": false
        },
        "nteract": {
          "transient": {
            "deleting": false
          }
        }
      }
    },
    {
      "cell_type": "code",
      "source": [
        "from pyspark.sql.types import StructType, StructField, IntegerType, StringType, DoubleType, BooleanType\r\n",
        "from pyspark.sql.functions import substring, col"
      ],
      "outputs": [
        {
          "output_type": "display_data",
          "data": {
            "application/vnd.livy.statement-meta+json": {
              "spark_pool": "DatapathSpark",
              "session_id": "8",
              "statement_id": 2,
              "state": "finished",
              "livy_statement_state": "available",
              "queued_time": "2022-11-05T00:02:03.4743724Z",
              "session_start_time": null,
              "execution_start_time": "2022-11-05T00:02:03.5975393Z",
              "execution_finish_time": "2022-11-05T00:02:03.7700848Z",
              "spark_jobs": null
            },
            "text/plain": "StatementMeta(DatapathSpark, 8, 2, Finished, Available)"
          },
          "metadata": {}
        }
      ],
      "execution_count": 2,
      "metadata": {
        "jupyter": {
          "source_hidden": false,
          "outputs_hidden": false
        },
        "nteract": {
          "transient": {
            "deleting": false
          }
        }
      }
    },
    {
      "cell_type": "code",
      "source": [
        "bronze_path = 'abfss://projectcontainer@datapathproject.dfs.core.windows.net/bronze'\r\n",
        "silver_path = 'abfss://projectcontainer@datapathproject.dfs.core.windows.net/silver'\r\n",
        "gold_path = 'abfss://projectcontainer@datapathproject.dfs.core.windows.net/gold'"
      ],
      "outputs": [
        {
          "output_type": "display_data",
          "data": {
            "application/vnd.livy.statement-meta+json": {
              "spark_pool": "DatapathSpark",
              "session_id": "8",
              "statement_id": 3,
              "state": "finished",
              "livy_statement_state": "available",
              "queued_time": "2022-11-05T00:02:05.1367737Z",
              "session_start_time": null,
              "execution_start_time": "2022-11-05T00:02:05.2586191Z",
              "execution_finish_time": "2022-11-05T00:02:05.4237757Z",
              "spark_jobs": null
            },
            "text/plain": "StatementMeta(DatapathSpark, 8, 3, Finished, Available)"
          },
          "metadata": {}
        }
      ],
      "execution_count": 3,
      "metadata": {
        "jupyter": {
          "source_hidden": false,
          "outputs_hidden": false
        },
        "nteract": {
          "transient": {
            "deleting": false
          }
        }
      }
    },
    {
      "cell_type": "markdown",
      "source": [
        "## Reading Gold Layer"
      ],
      "metadata": {
        "nteract": {
          "transient": {
            "deleting": false
          }
        }
      }
    },
    {
      "cell_type": "code",
      "source": [
        "R1 = spark.read.format(\"delta\").load(f\"{gold_path}/R1\")\r\n",
        "R2 = spark.read.format(\"delta\").load(f\"{gold_path}/R2\")\r\n",
        "R31 = spark.read.format(\"delta\").load(f\"{gold_path}/R31\")\r\n",
        "R32 = spark.read.format(\"delta\").load(f\"{gold_path}/R32\")\r\n",
        "R33 = spark.read.format(\"delta\").load(f\"{gold_path}/R33\")\r\n",
        "R4 = spark.read.format(\"delta\").load(f\"{gold_path}/R4\")\r\n",
        "R5 = spark.read.format(\"delta\").load(f\"{gold_path}/R5\")"
      ],
      "outputs": [
        {
          "output_type": "display_data",
          "data": {
            "application/vnd.livy.statement-meta+json": {
              "spark_pool": "DatapathSpark",
              "session_id": "8",
              "statement_id": 4,
              "state": "finished",
              "livy_statement_state": "available",
              "queued_time": "2022-11-05T00:02:10.0689668Z",
              "session_start_time": null,
              "execution_start_time": "2022-11-05T00:02:10.192087Z",
              "execution_finish_time": "2022-11-05T00:02:54.0022851Z",
              "spark_jobs": null
            },
            "text/plain": "StatementMeta(DatapathSpark, 8, 4, Finished, Available)"
          },
          "metadata": {}
        }
      ],
      "execution_count": 4,
      "metadata": {
        "jupyter": {
          "source_hidden": false,
          "outputs_hidden": false
        },
        "nteract": {
          "transient": {
            "deleting": false
          }
        }
      }
    },
    {
      "cell_type": "markdown",
      "source": [
        "## Load Parquet Format"
      ],
      "metadata": {
        "nteract": {
          "transient": {
            "deleting": false
          }
        }
      }
    },
    {
      "cell_type": "code",
      "source": [
        "R1.write.mode(\"overwrite\").parquet(f\"{gold_path}/parquet/R1\")\r\n",
        "R2.write.mode(\"overwrite\").parquet(f\"{gold_path}/parquet/R2\")\r\n",
        "R31.write.mode(\"overwrite\").parquet(f\"{gold_path}/parquet/R31\")\r\n",
        "R32.write.mode(\"overwrite\").parquet(f\"{gold_path}/parquet/R32\")\r\n",
        "R33.write.mode(\"overwrite\").parquet(f\"{gold_path}/parquet/R33\")\r\n",
        "R4.write.mode(\"overwrite\").parquet(f\"{gold_path}/parquet/R4\")\r\n",
        "R5.write.mode(\"overwrite\").parquet(f\"{gold_path}/parquet/R5\")"
      ],
      "outputs": [
        {
          "output_type": "display_data",
          "data": {
            "application/vnd.livy.statement-meta+json": {
              "spark_pool": "DatapathSpark",
              "session_id": "8",
              "statement_id": 9,
              "state": "finished",
              "livy_statement_state": "available",
              "queued_time": "2022-11-05T00:06:16.9984707Z",
              "session_start_time": null,
              "execution_start_time": "2022-11-05T00:06:17.1276131Z",
              "execution_finish_time": "2022-11-05T00:06:32.0835583Z",
              "spark_jobs": null
            },
            "text/plain": "StatementMeta(DatapathSpark, 8, 9, Finished, Available)"
          },
          "metadata": {}
        }
      ],
      "execution_count": 9,
      "metadata": {
        "jupyter": {
          "source_hidden": false,
          "outputs_hidden": false
        },
        "nteract": {
          "transient": {
            "deleting": false
          }
        }
      }
    }
  ],
  "metadata": {
    "kernelspec": {
      "name": "synapse_pyspark",
      "language": "Python",
      "display_name": "Synapse PySpark"
    },
    "language_info": {
      "name": "python"
    },
    "kernel_info": {
      "name": "synapse_pyspark"
    },
    "description": null,
    "save_output": true,
    "synapse_widget": {
      "version": "0.1",
      "state": {}
    }
  },
  "nbformat": 4,
  "nbformat_minor": 2
}
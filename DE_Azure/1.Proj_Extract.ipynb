{
  "cells": [
    {
      "cell_type": "markdown",
      "source": [
        "# Data Engineer with Azure\r\n",
        "## Datapath Project\r\n",
        "## Author: Gael Velasquez"
      ],
      "metadata": {
        "nteract": {
          "transient": {
            "deleting": false
          }
        }
      }
    },
    {
      "cell_type": "code",
      "source": [
        "spark"
      ],
      "outputs": [
        {
          "output_type": "display_data",
          "data": {
            "application/vnd.livy.statement-meta+json": {
              "spark_pool": "DatapathSpark",
              "session_id": "6",
              "statement_id": 6,
              "state": "finished",
              "livy_statement_state": "available",
              "queued_time": "2022-11-04T23:55:41.7645823Z",
              "session_start_time": null,
              "execution_start_time": "2022-11-04T23:55:41.8855276Z",
              "execution_finish_time": "2022-11-04T23:55:42.0734049Z",
              "spark_jobs": null
            },
            "text/plain": "StatementMeta(DatapathSpark, 6, 6, Finished, Available)"
          },
          "metadata": {}
        },
        {
          "output_type": "execute_result",
          "execution_count": 22,
          "data": {
            "text/plain": "<pyspark.sql.session.SparkSession at 0x7f6d07724e50>",
            "text/html": "\n            <div>\n                <p><b>SparkSession - hive</b></p>\n                \n        <div>\n            <p><b>SparkContext</b></p>\n\n            <p><a href=\"http://vm-5e139471:37037\">Spark UI</a></p>\n\n            <dl>\n              <dt>Version</dt>\n                <dd><code>v3.2.2.5.0-73283859</code></dd>\n              <dt>Master</dt>\n                <dd><code>yarn</code></dd>\n              <dt>AppName</dt>\n                <dd><code>Proj_Extract_DatapathSpark_1667605960</code></dd>\n            </dl>\n        </div>\n        \n            </div>\n        "
          },
          "metadata": {}
        }
      ],
      "execution_count": 8,
      "metadata": {}
    },
    {
      "cell_type": "markdown",
      "source": [
        "# **EXTRACT DATA**"
      ],
      "metadata": {
        "nteract": {
          "transient": {
            "deleting": false
          }
        }
      }
    },
    {
      "cell_type": "code",
      "source": [
        "from pyspark.sql.types import StructField, StructType, StringType, LongType, DateType, IntegerType, FloatType\r\n",
        "from pyspark.sql.functions import substring, col, when"
      ],
      "outputs": [
        {
          "output_type": "display_data",
          "data": {
            "application/vnd.livy.statement-meta+json": {
              "spark_pool": "DatapathSpark",
              "session_id": "6",
              "statement_id": 7,
              "state": "finished",
              "livy_statement_state": "available",
              "queued_time": "2022-11-04T23:55:41.8397598Z",
              "session_start_time": null,
              "execution_start_time": "2022-11-04T23:55:42.1935962Z",
              "execution_finish_time": "2022-11-04T23:55:42.3731656Z",
              "spark_jobs": null
            },
            "text/plain": "StatementMeta(DatapathSpark, 6, 7, Finished, Available)"
          },
          "metadata": {}
        }
      ],
      "execution_count": 9,
      "metadata": {
        "jupyter": {
          "source_hidden": false,
          "outputs_hidden": false
        },
        "nteract": {
          "transient": {
            "deleting": false
          }
        }
      }
    },
    {
      "cell_type": "code",
      "source": [
        "bronze_path = 'abfss://projectcontainer@datapathproject.dfs.core.windows.net/bronze'\r\n",
        "silver_path = 'abfss://projectcontainer@datapathproject.dfs.core.windows.net/silver'\r\n",
        "gold_path = 'abfss://projectcontainer@datapathproject.dfs.core.windows.net/gold'"
      ],
      "outputs": [
        {
          "output_type": "display_data",
          "data": {
            "application/vnd.livy.statement-meta+json": {
              "spark_pool": "DatapathSpark",
              "session_id": "6",
              "statement_id": 8,
              "state": "finished",
              "livy_statement_state": "available",
              "queued_time": "2022-11-04T23:55:41.9453528Z",
              "session_start_time": null,
              "execution_start_time": "2022-11-04T23:55:42.51572Z",
              "execution_finish_time": "2022-11-04T23:55:42.7138887Z",
              "spark_jobs": null
            },
            "text/plain": "StatementMeta(DatapathSpark, 6, 8, Finished, Available)"
          },
          "metadata": {}
        }
      ],
      "execution_count": 10,
      "metadata": {
        "jupyter": {
          "source_hidden": false,
          "outputs_hidden": false
        },
        "nteract": {
          "transient": {
            "deleting": false
          }
        }
      }
    },
    {
      "cell_type": "markdown",
      "source": [
        "## Departments"
      ],
      "metadata": {
        "nteract": {
          "transient": {
            "deleting": false
          }
        }
      }
    },
    {
      "cell_type": "code",
      "source": [
        "Departments_Schema = StructType([\r\n",
        "StructField(\"deparment_id\", StringType(), True),\r\n",
        "StructField(\"department_name\", StringType(), True)])"
      ],
      "outputs": [
        {
          "output_type": "display_data",
          "data": {
            "application/vnd.livy.statement-meta+json": {
              "spark_pool": "DatapathSpark",
              "session_id": "6",
              "statement_id": 9,
              "state": "finished",
              "livy_statement_state": "available",
              "queued_time": "2022-11-04T23:55:42.0334946Z",
              "session_start_time": null,
              "execution_start_time": "2022-11-04T23:55:42.8814486Z",
              "execution_finish_time": "2022-11-04T23:55:43.069416Z",
              "spark_jobs": null
            },
            "text/plain": "StatementMeta(DatapathSpark, 6, 9, Finished, Available)"
          },
          "metadata": {}
        }
      ],
      "execution_count": 11,
      "metadata": {
        "jupyter": {
          "source_hidden": false,
          "outputs_hidden": false
        },
        "nteract": {
          "transient": {
            "deleting": false
          }
        }
      }
    },
    {
      "cell_type": "code",
      "source": [
        "ddepartments = (\r\n",
        "  spark\r\n",
        "  .read\r\n",
        "  .format(\"csv\")\r\n",
        "  .option(\"header\", \"false\")\r\n",
        "  .option(\"delimiter\", \"|\")\r\n",
        "  .schema(Departments_Schema)\r\n",
        "  .load(f\"{bronze_path}/departments\")\r\n",
        ")"
      ],
      "outputs": [
        {
          "output_type": "display_data",
          "data": {
            "application/vnd.livy.statement-meta+json": {
              "spark_pool": "DatapathSpark",
              "session_id": "6",
              "statement_id": 10,
              "state": "finished",
              "livy_statement_state": "available",
              "queued_time": "2022-11-04T23:55:42.5110301Z",
              "session_start_time": null,
              "execution_start_time": "2022-11-04T23:55:43.2121328Z",
              "execution_finish_time": "2022-11-04T23:55:50.243439Z",
              "spark_jobs": null
            },
            "text/plain": "StatementMeta(DatapathSpark, 6, 10, Finished, Available)"
          },
          "metadata": {}
        }
      ],
      "execution_count": 12,
      "metadata": {
        "jupyter": {
          "source_hidden": false,
          "outputs_hidden": false
        },
        "nteract": {
          "transient": {
            "deleting": false
          }
        }
      }
    },
    {
      "cell_type": "code",
      "source": [
        "ddepartments.write.mode(\"overwrite\").format(\"delta\").save(f\"{silver_path}/departments\")"
      ],
      "outputs": [
        {
          "output_type": "display_data",
          "data": {
            "application/vnd.livy.statement-meta+json": {
              "spark_pool": "DatapathSpark",
              "session_id": "6",
              "statement_id": 11,
              "state": "finished",
              "livy_statement_state": "available",
              "queued_time": "2022-11-04T23:55:42.5479612Z",
              "session_start_time": null,
              "execution_start_time": "2022-11-04T23:55:50.3595222Z",
              "execution_finish_time": "2022-11-04T23:56:41.4596333Z",
              "spark_jobs": null
            },
            "text/plain": "StatementMeta(DatapathSpark, 6, 11, Finished, Available)"
          },
          "metadata": {}
        }
      ],
      "execution_count": 13,
      "metadata": {
        "jupyter": {
          "source_hidden": false,
          "outputs_hidden": false
        },
        "nteract": {
          "transient": {
            "deleting": false
          }
        }
      }
    },
    {
      "cell_type": "markdown",
      "source": [
        "## Categories"
      ],
      "metadata": {
        "nteract": {
          "transient": {
            "deleting": false
          }
        }
      }
    },
    {
      "cell_type": "code",
      "source": [
        "Categories_Schema = StructType([\r\n",
        "StructField(\"category_id\", StringType(), True),\r\n",
        "StructField(\"category_department_id\", StringType(), True),\r\n",
        "StructField(\"category_name\", StringType(), True)])"
      ],
      "outputs": [
        {
          "output_type": "display_data",
          "data": {
            "application/vnd.livy.statement-meta+json": {
              "spark_pool": "DatapathSpark",
              "session_id": "6",
              "statement_id": 12,
              "state": "finished",
              "livy_statement_state": "available",
              "queued_time": "2022-11-04T23:55:42.8153431Z",
              "session_start_time": null,
              "execution_start_time": "2022-11-04T23:56:41.5781915Z",
              "execution_finish_time": "2022-11-04T23:56:41.7919638Z",
              "spark_jobs": null
            },
            "text/plain": "StatementMeta(DatapathSpark, 6, 12, Finished, Available)"
          },
          "metadata": {}
        }
      ],
      "execution_count": 14,
      "metadata": {
        "jupyter": {
          "source_hidden": false,
          "outputs_hidden": false
        },
        "nteract": {
          "transient": {
            "deleting": false
          }
        }
      }
    },
    {
      "cell_type": "code",
      "source": [
        "dcategories = (\r\n",
        "  spark\r\n",
        "  .read\r\n",
        "  .format(\"csv\")\r\n",
        "  .option(\"header\", \"false\")\r\n",
        "  .option(\"delimiter\", \"|\")\r\n",
        "  .schema(Categories_Schema)\r\n",
        "  .load(f\"{bronze_path}/categories\")\r\n",
        ")"
      ],
      "outputs": [
        {
          "output_type": "display_data",
          "data": {
            "application/vnd.livy.statement-meta+json": {
              "spark_pool": "DatapathSpark",
              "session_id": "6",
              "statement_id": 13,
              "state": "finished",
              "livy_statement_state": "available",
              "queued_time": "2022-11-04T23:55:43.1238757Z",
              "session_start_time": null,
              "execution_start_time": "2022-11-04T23:56:41.9081197Z",
              "execution_finish_time": "2022-11-04T23:56:42.1152386Z",
              "spark_jobs": null
            },
            "text/plain": "StatementMeta(DatapathSpark, 6, 13, Finished, Available)"
          },
          "metadata": {}
        }
      ],
      "execution_count": 15,
      "metadata": {
        "jupyter": {
          "source_hidden": false,
          "outputs_hidden": false
        },
        "nteract": {
          "transient": {
            "deleting": false
          }
        }
      }
    },
    {
      "cell_type": "code",
      "source": [
        "dcategories.write.mode(\"overwrite\").format(\"delta\").save(f\"{silver_path}/categories\")"
      ],
      "outputs": [
        {
          "output_type": "display_data",
          "data": {
            "application/vnd.livy.statement-meta+json": {
              "spark_pool": "DatapathSpark",
              "session_id": "6",
              "statement_id": 14,
              "state": "finished",
              "livy_statement_state": "available",
              "queued_time": "2022-11-04T23:55:43.358816Z",
              "session_start_time": null,
              "execution_start_time": "2022-11-04T23:56:42.2879207Z",
              "execution_finish_time": "2022-11-04T23:56:48.0173588Z",
              "spark_jobs": null
            },
            "text/plain": "StatementMeta(DatapathSpark, 6, 14, Finished, Available)"
          },
          "metadata": {}
        }
      ],
      "execution_count": 16,
      "metadata": {
        "jupyter": {
          "source_hidden": false,
          "outputs_hidden": false
        },
        "nteract": {
          "transient": {
            "deleting": false
          }
        }
      }
    },
    {
      "cell_type": "markdown",
      "source": [
        "## Products"
      ],
      "metadata": {
        "nteract": {
          "transient": {
            "deleting": false
          }
        }
      }
    },
    {
      "cell_type": "code",
      "source": [
        "Products_Schema = StructType([\r\n",
        "StructField(\"product_id\", StringType(), True),\r\n",
        "StructField(\"product_category_id\", StringType(), True),\r\n",
        "StructField(\"product_name\", StringType(), True),\r\n",
        "StructField(\"product_description\", StringType(), True),\r\n",
        "StructField(\"product_price\", FloatType(), True),\r\n",
        "StructField(\"product_image\", StringType(), True)])"
      ],
      "outputs": [
        {
          "output_type": "display_data",
          "data": {
            "application/vnd.livy.statement-meta+json": {
              "spark_pool": "DatapathSpark",
              "session_id": "6",
              "statement_id": 15,
              "state": "finished",
              "livy_statement_state": "available",
              "queued_time": "2022-11-04T23:55:43.5800249Z",
              "session_start_time": null,
              "execution_start_time": "2022-11-04T23:56:48.1471472Z",
              "execution_finish_time": "2022-11-04T23:56:48.4624792Z",
              "spark_jobs": null
            },
            "text/plain": "StatementMeta(DatapathSpark, 6, 15, Finished, Available)"
          },
          "metadata": {}
        }
      ],
      "execution_count": 17,
      "metadata": {
        "jupyter": {
          "source_hidden": false,
          "outputs_hidden": false
        },
        "nteract": {
          "transient": {
            "deleting": false
          }
        }
      }
    },
    {
      "cell_type": "code",
      "source": [
        "dproducts = (\r\n",
        "  spark\r\n",
        "  .read\r\n",
        "  .format(\"csv\")\r\n",
        "  .option(\"header\", \"false\")\r\n",
        "  .option(\"delimiter\", \"|\")\r\n",
        "  .schema(Products_Schema)\r\n",
        "  .load(f\"{bronze_path}/products\")\r\n",
        ")"
      ],
      "outputs": [
        {
          "output_type": "display_data",
          "data": {
            "application/vnd.livy.statement-meta+json": {
              "spark_pool": "DatapathSpark",
              "session_id": "6",
              "statement_id": 16,
              "state": "finished",
              "livy_statement_state": "available",
              "queued_time": "2022-11-04T23:55:43.7070903Z",
              "session_start_time": null,
              "execution_start_time": "2022-11-04T23:56:48.5894639Z",
              "execution_finish_time": "2022-11-04T23:56:48.8043669Z",
              "spark_jobs": null
            },
            "text/plain": "StatementMeta(DatapathSpark, 6, 16, Finished, Available)"
          },
          "metadata": {}
        }
      ],
      "execution_count": 18,
      "metadata": {
        "jupyter": {
          "source_hidden": false,
          "outputs_hidden": false
        },
        "nteract": {
          "transient": {
            "deleting": false
          }
        }
      }
    },
    {
      "cell_type": "code",
      "source": [
        "dproducts.write.mode(\"overwrite\").format(\"delta\").save(f\"{silver_path}/products\")"
      ],
      "outputs": [
        {
          "output_type": "display_data",
          "data": {
            "application/vnd.livy.statement-meta+json": {
              "spark_pool": "DatapathSpark",
              "session_id": "6",
              "statement_id": 17,
              "state": "finished",
              "livy_statement_state": "available",
              "queued_time": "2022-11-04T23:55:43.8154178Z",
              "session_start_time": null,
              "execution_start_time": "2022-11-04T23:56:48.9585637Z",
              "execution_finish_time": "2022-11-04T23:56:53.370236Z",
              "spark_jobs": null
            },
            "text/plain": "StatementMeta(DatapathSpark, 6, 17, Finished, Available)"
          },
          "metadata": {}
        }
      ],
      "execution_count": 19,
      "metadata": {
        "jupyter": {
          "source_hidden": false,
          "outputs_hidden": false
        },
        "nteract": {
          "transient": {
            "deleting": false
          }
        }
      }
    },
    {
      "cell_type": "markdown",
      "source": [
        "## Order Items"
      ],
      "metadata": {
        "nteract": {
          "transient": {
            "deleting": false
          }
        }
      }
    },
    {
      "cell_type": "code",
      "source": [
        "Order_Items_Schema = StructType([\r\n",
        "StructField(\"order_item_id\", StringType(), True),\r\n",
        "StructField(\"order_item_order_id\", StringType(), True),\r\n",
        "StructField(\"order_item_product_id\", StringType(), True),\r\n",
        "StructField(\"order_item_quantity\", FloatType(), True),\r\n",
        "StructField(\"order_item_subtotal\", FloatType(), True),\r\n",
        "StructField(\"order_item_product_price\", FloatType(), True)])"
      ],
      "outputs": [
        {
          "output_type": "display_data",
          "data": {
            "application/vnd.livy.statement-meta+json": {
              "spark_pool": "DatapathSpark",
              "session_id": "6",
              "statement_id": 18,
              "state": "finished",
              "livy_statement_state": "available",
              "queued_time": "2022-11-04T23:55:43.9084672Z",
              "session_start_time": null,
              "execution_start_time": "2022-11-04T23:56:53.4906592Z",
              "execution_finish_time": "2022-11-04T23:56:53.6735785Z",
              "spark_jobs": null
            },
            "text/plain": "StatementMeta(DatapathSpark, 6, 18, Finished, Available)"
          },
          "metadata": {}
        }
      ],
      "execution_count": 20,
      "metadata": {
        "jupyter": {
          "source_hidden": false,
          "outputs_hidden": false
        },
        "nteract": {
          "transient": {
            "deleting": false
          }
        }
      }
    },
    {
      "cell_type": "code",
      "source": [
        "dorder_items = (\r\n",
        "  spark\r\n",
        "  .read\r\n",
        "  .format(\"csv\")\r\n",
        "  .option(\"header\", \"false\")\r\n",
        "  .option(\"delimiter\", \"|\")\r\n",
        "  .schema(Order_Items_Schema)\r\n",
        "  .load(f\"{bronze_path}/order_items\")\r\n",
        ")"
      ],
      "outputs": [
        {
          "output_type": "display_data",
          "data": {
            "application/vnd.livy.statement-meta+json": {
              "spark_pool": "DatapathSpark",
              "session_id": "6",
              "statement_id": 19,
              "state": "finished",
              "livy_statement_state": "available",
              "queued_time": "2022-11-04T23:55:44.0240405Z",
              "session_start_time": null,
              "execution_start_time": "2022-11-04T23:56:53.7947558Z",
              "execution_finish_time": "2022-11-04T23:56:54.0615297Z",
              "spark_jobs": null
            },
            "text/plain": "StatementMeta(DatapathSpark, 6, 19, Finished, Available)"
          },
          "metadata": {}
        }
      ],
      "execution_count": 21,
      "metadata": {
        "jupyter": {
          "source_hidden": false,
          "outputs_hidden": false
        },
        "nteract": {
          "transient": {
            "deleting": false
          }
        }
      }
    },
    {
      "cell_type": "code",
      "source": [
        "dorder_items.write.mode(\"overwrite\").format(\"delta\").save(f\"{silver_path}/order_items\")"
      ],
      "outputs": [
        {
          "output_type": "display_data",
          "data": {
            "application/vnd.livy.statement-meta+json": {
              "spark_pool": "DatapathSpark",
              "session_id": "6",
              "statement_id": 20,
              "state": "finished",
              "livy_statement_state": "available",
              "queued_time": "2022-11-04T23:55:44.0779995Z",
              "session_start_time": null,
              "execution_start_time": "2022-11-04T23:56:54.191177Z",
              "execution_finish_time": "2022-11-04T23:57:01.2781644Z",
              "spark_jobs": null
            },
            "text/plain": "StatementMeta(DatapathSpark, 6, 20, Finished, Available)"
          },
          "metadata": {}
        }
      ],
      "execution_count": 22,
      "metadata": {
        "jupyter": {
          "source_hidden": false,
          "outputs_hidden": false
        },
        "nteract": {
          "transient": {
            "deleting": false
          }
        }
      }
    },
    {
      "cell_type": "markdown",
      "source": [
        "## Orders"
      ],
      "metadata": {
        "nteract": {
          "transient": {
            "deleting": false
          }
        }
      }
    },
    {
      "cell_type": "code",
      "source": [
        "Order_Schema = StructType([\r\n",
        "StructField(\"order_id\", StringType(), True),\r\n",
        "StructField(\"order_date\", DateType(), True),\r\n",
        "StructField(\"order_customer_id\", StringType(), True),\r\n",
        "StructField(\"order_status\", StringType(), True)])"
      ],
      "outputs": [
        {
          "output_type": "display_data",
          "data": {
            "application/vnd.livy.statement-meta+json": {
              "spark_pool": "DatapathSpark",
              "session_id": "6",
              "statement_id": 21,
              "state": "finished",
              "livy_statement_state": "available",
              "queued_time": "2022-11-04T23:55:44.1707991Z",
              "session_start_time": null,
              "execution_start_time": "2022-11-04T23:57:01.4140006Z",
              "execution_finish_time": "2022-11-04T23:57:01.6311127Z",
              "spark_jobs": null
            },
            "text/plain": "StatementMeta(DatapathSpark, 6, 21, Finished, Available)"
          },
          "metadata": {}
        }
      ],
      "execution_count": 23,
      "metadata": {
        "jupyter": {
          "source_hidden": false,
          "outputs_hidden": false
        },
        "nteract": {
          "transient": {
            "deleting": false
          }
        }
      }
    },
    {
      "cell_type": "code",
      "source": [
        "dorders = (\r\n",
        "  spark\r\n",
        "  .read\r\n",
        "  .format(\"csv\")\r\n",
        "  .option(\"header\", \"false\")\r\n",
        "  .option(\"delimiter\", \"|\")\r\n",
        "  .schema(Order_Schema)\r\n",
        "  .load(f\"{bronze_path}/orders\")\r\n",
        ")"
      ],
      "outputs": [
        {
          "output_type": "display_data",
          "data": {
            "application/vnd.livy.statement-meta+json": {
              "spark_pool": "DatapathSpark",
              "session_id": "6",
              "statement_id": 22,
              "state": "finished",
              "livy_statement_state": "available",
              "queued_time": "2022-11-04T23:55:44.279283Z",
              "session_start_time": null,
              "execution_start_time": "2022-11-04T23:57:01.7563232Z",
              "execution_finish_time": "2022-11-04T23:57:01.9723506Z",
              "spark_jobs": null
            },
            "text/plain": "StatementMeta(DatapathSpark, 6, 22, Finished, Available)"
          },
          "metadata": {}
        }
      ],
      "execution_count": 24,
      "metadata": {
        "jupyter": {
          "source_hidden": false,
          "outputs_hidden": false
        },
        "nteract": {
          "transient": {
            "deleting": false
          }
        }
      }
    },
    {
      "cell_type": "code",
      "source": [
        "dorders.write.mode(\"overwrite\").format(\"delta\").save(f\"{silver_path}/orders\")"
      ],
      "outputs": [
        {
          "output_type": "display_data",
          "data": {
            "application/vnd.livy.statement-meta+json": {
              "spark_pool": "DatapathSpark",
              "session_id": "6",
              "statement_id": 23,
              "state": "finished",
              "livy_statement_state": "available",
              "queued_time": "2022-11-04T23:55:44.3592286Z",
              "session_start_time": null,
              "execution_start_time": "2022-11-04T23:57:02.1003024Z",
              "execution_finish_time": "2022-11-04T23:57:09.1307424Z",
              "spark_jobs": null
            },
            "text/plain": "StatementMeta(DatapathSpark, 6, 23, Finished, Available)"
          },
          "metadata": {}
        }
      ],
      "execution_count": 25,
      "metadata": {
        "jupyter": {
          "source_hidden": false,
          "outputs_hidden": false
        },
        "nteract": {
          "transient": {
            "deleting": false
          }
        }
      }
    },
    {
      "cell_type": "markdown",
      "source": [
        "## Customers"
      ],
      "metadata": {
        "nteract": {
          "transient": {
            "deleting": false
          }
        }
      }
    },
    {
      "cell_type": "code",
      "source": [
        "Curstomers_Schema = StructType([\r\n",
        "StructField(\"customer_id\", StringType(), True),\r\n",
        "StructField(\"customer_fname\", StringType(), True),\r\n",
        "StructField(\"customer_lname\", StringType(), True),\r\n",
        "StructField(\"customer_email\", StringType(), True),\r\n",
        "StructField(\"customer_password\", StringType(), True),\r\n",
        "StructField(\"customer_street\", StringType(), True),\r\n",
        "StructField(\"customer_city\", StringType(), True),\r\n",
        "StructField(\"customer_state\", StringType(), True),\r\n",
        "StructField(\"order_zipcode\", StringType(), True)])\r\n"
      ],
      "outputs": [
        {
          "output_type": "display_data",
          "data": {
            "application/vnd.livy.statement-meta+json": {
              "spark_pool": "DatapathSpark",
              "session_id": "6",
              "statement_id": 24,
              "state": "finished",
              "livy_statement_state": "available",
              "queued_time": "2022-11-04T23:55:44.8018473Z",
              "session_start_time": null,
              "execution_start_time": "2022-11-04T23:57:09.2932437Z",
              "execution_finish_time": "2022-11-04T23:57:09.5047964Z",
              "spark_jobs": null
            },
            "text/plain": "StatementMeta(DatapathSpark, 6, 24, Finished, Available)"
          },
          "metadata": {}
        }
      ],
      "execution_count": 26,
      "metadata": {
        "jupyter": {
          "source_hidden": false,
          "outputs_hidden": false
        },
        "nteract": {
          "transient": {
            "deleting": false
          }
        }
      }
    },
    {
      "cell_type": "code",
      "source": [
        "dcustomers = (\r\n",
        "  spark\r\n",
        "  .read\r\n",
        "  .format(\"csv\")\r\n",
        "  .option(\"header\", \"false\")\r\n",
        "  .option(\"delimiter\", \"|\")\r\n",
        "  .schema(Curstomers_Schema)\r\n",
        "  .load(f\"{bronze_path}/customer\")\r\n",
        ")"
      ],
      "outputs": [
        {
          "output_type": "display_data",
          "data": {
            "application/vnd.livy.statement-meta+json": {
              "spark_pool": "DatapathSpark",
              "session_id": "6",
              "statement_id": 25,
              "state": "finished",
              "livy_statement_state": "available",
              "queued_time": "2022-11-04T23:55:44.8040769Z",
              "session_start_time": null,
              "execution_start_time": "2022-11-04T23:57:09.6340817Z",
              "execution_finish_time": "2022-11-04T23:57:09.807187Z",
              "spark_jobs": null
            },
            "text/plain": "StatementMeta(DatapathSpark, 6, 25, Finished, Available)"
          },
          "metadata": {}
        }
      ],
      "execution_count": 27,
      "metadata": {
        "jupyter": {
          "source_hidden": false,
          "outputs_hidden": false
        },
        "nteract": {
          "transient": {
            "deleting": false
          }
        }
      }
    },
    {
      "cell_type": "code",
      "source": [
        "dcustomers.write.mode(\"overwrite\").format(\"delta\").save(f\"{silver_path}/customer\")"
      ],
      "outputs": [
        {
          "output_type": "display_data",
          "data": {
            "application/vnd.livy.statement-meta+json": {
              "spark_pool": "DatapathSpark",
              "session_id": "6",
              "statement_id": 26,
              "state": "finished",
              "livy_statement_state": "available",
              "queued_time": "2022-11-04T23:55:44.8063367Z",
              "session_start_time": null,
              "execution_start_time": "2022-11-04T23:57:09.928107Z",
              "execution_finish_time": "2022-11-04T23:57:14.2884094Z",
              "spark_jobs": null
            },
            "text/plain": "StatementMeta(DatapathSpark, 6, 26, Finished, Available)"
          },
          "metadata": {}
        }
      ],
      "execution_count": 28,
      "metadata": {
        "jupyter": {
          "source_hidden": false,
          "outputs_hidden": false
        },
        "nteract": {
          "transient": {
            "deleting": false
          }
        }
      }
    }
  ],
  "metadata": {
    "kernelspec": {
      "name": "synapse_pyspark",
      "language": "Python",
      "display_name": "Synapse PySpark"
    },
    "language_info": {
      "name": "python"
    },
    "kernel_info": {
      "name": "synapse_pyspark"
    },
    "description": null,
    "save_output": true,
    "synapse_widget": {
      "version": "0.1",
      "state": {}
    }
  },
  "nbformat": 4,
  "nbformat_minor": 2
}